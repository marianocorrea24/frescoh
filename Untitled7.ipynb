{
  "nbformat": 4,
  "nbformat_minor": 0,
  "metadata": {
    "colab": {
      "provenance": [],
      "authorship_tag": "ABX9TyNaF9PgUIrHz6sJJ5T4sGCt",
      "include_colab_link": true
    },
    "kernelspec": {
      "name": "python3",
      "display_name": "Python 3"
    },
    "language_info": {
      "name": "python"
    }
  },
  "cells": [
    {
      "cell_type": "markdown",
      "metadata": {
        "id": "view-in-github",
        "colab_type": "text"
      },
      "source": [
        "<a href=\"https://colab.research.google.com/github/marianocorrea24/frescoh/blob/main/Untitled7.ipynb\" target=\"_parent\"><img src=\"https://colab.research.google.com/assets/colab-badge.svg\" alt=\"Open In Colab\"/></a>"
      ]
    },
    {
      "cell_type": "code",
      "execution_count": 4,
      "metadata": {
        "colab": {
          "base_uri": "https://localhost:8080/"
        },
        "id": "wC0GXhkIr--u",
        "outputId": "522bf13f-7705-47aa-8da6-74747856d903"
      },
      "outputs": [
        {
          "output_type": "stream",
          "name": "stdout",
          "text": [
            "8\n",
            "14\n",
            "0\n",
            "-6\n"
          ]
        }
      ],
      "source": [
        "def multiplicar_por_dos(numero):\n",
        "    return numero * 2\n",
        "\n",
        "print(multiplicar_por_dos(4))\n",
        "print(multiplicar_por_dos(7))\n",
        "print(multiplicar_por_dos(0))\n",
        "print(multiplicar_por_dos(-3))\n"
      ]
    },
    {
      "cell_type": "code",
      "source": [
        "def sumar_todos(*args):\n",
        "    return sum(args)\n",
        "\n",
        "print(sumar_todos(1, 2, 3, 4))\n",
        "print(sumar_todos(5, 10, 15))\n",
        "print(sumar_todos(0, -1, 1))\n",
        "print(sumar_todos())\n"
      ],
      "metadata": {
        "colab": {
          "base_uri": "https://localhost:8080/"
        },
        "id": "Wv4FzL8ts33H",
        "outputId": "5798c472-5fa9-4840-9781-67a44fc9a626"
      },
      "execution_count": 5,
      "outputs": [
        {
          "output_type": "stream",
          "name": "stdout",
          "text": [
            "10\n",
            "30\n",
            "0\n",
            "0\n"
          ]
        }
      ]
    },
    {
      "cell_type": "code",
      "source": [
        "numeros = [1, 2, 3, 4, 5, 6, 7, 8, 9, 10]\n",
        "\n",
        "numeros_pares = list(filter(lambda x: x % 2 == 0, numeros))\n",
        "\n",
        "print(numeros_pares)\n"
      ],
      "metadata": {
        "colab": {
          "base_uri": "https://localhost:8080/"
        },
        "id": "ZQKKbFBLtrXv",
        "outputId": "6b960bb4-2bf8-4c2e-bcbe-40d4458a5709"
      },
      "execution_count": 6,
      "outputs": [
        {
          "output_type": "stream",
          "name": "stdout",
          "text": [
            "[2, 4, 6, 8, 10]\n"
          ]
        }
      ]
    },
    {
      "cell_type": "code",
      "source": [
        "def mostrar_info_persona(**kwargs):\n",
        "    info = \", \".join(f\"{clave.capitalize()}: {valor}\" for clave, valor in kwargs.items())\n",
        "    print(info)\n",
        "\n",
        "\n",
        "mostrar_info_persona(nombre=\"Juan\", edad=25, ciudad=\"Madrid\")\n",
        "\n",
        "\n",
        "mostrar_info_persona(nombre=\"Ana\", edad=30, ciudad=\"Buenos Aires\")\n",
        "\n"
      ],
      "metadata": {
        "colab": {
          "base_uri": "https://localhost:8080/"
        },
        "id": "48rl8oLauyBu",
        "outputId": "1186e7a4-a683-40eb-ef6c-c49387171c58"
      },
      "execution_count": 7,
      "outputs": [
        {
          "output_type": "stream",
          "name": "stdout",
          "text": [
            "Nombre: Juan, Edad: 25, Ciudad: Madrid\n",
            "Nombre: Ana, Edad: 30, Ciudad: Buenos Aires\n"
          ]
        }
      ]
    },
    {
      "cell_type": "code",
      "source": [
        "def multiplicar_lista(lista, multiplicador):\n",
        "    return [x * multiplicador for x in lista]\n",
        "\n",
        "\n",
        "numeros = [1, 2, 3, 4, 5]\n",
        "print(multiplicar_lista(numeros, 2))\n"
      ],
      "metadata": {
        "colab": {
          "base_uri": "https://localhost:8080/"
        },
        "id": "-nIz5Qhbu-rd",
        "outputId": "e5356fef-0a09-4055-ccef-8740dce7364e"
      },
      "execution_count": 8,
      "outputs": [
        {
          "output_type": "stream",
          "name": "stdout",
          "text": [
            "[2, 4, 6, 8, 10]\n"
          ]
        }
      ]
    },
    {
      "cell_type": "code",
      "source": [
        "def incrementar_valor(numero):\n",
        "    incrementado = numero + 1\n",
        "    print(\"Valor original:\", numero)\n",
        "    return incrementado\n",
        "\n",
        "# Prueba la función\n",
        "print(incrementar_valor(5))\n"
      ],
      "metadata": {
        "id": "lqdwNG8tvIT3"
      },
      "execution_count": null,
      "outputs": []
    },
    {
      "cell_type": "code",
      "source": [
        "def obtener_mayor_y_menor(lista):\n",
        "    mayor = max(lista)\n",
        "    menor = min(lista)\n",
        "    return mayor, menor\n",
        "\n",
        "numeros = [3, 1, 4, 1, 5, 9, 2, 6, 5]\n",
        "print(obtener_mayor_y_menor(numeros))"
      ],
      "metadata": {
        "colab": {
          "base_uri": "https://localhost:8080/"
        },
        "id": "5FEEFy6ivux8",
        "outputId": "8a3a86ef-bf12-45a1-ebab-f796f3d05211"
      },
      "execution_count": 9,
      "outputs": [
        {
          "output_type": "stream",
          "name": "stdout",
          "text": [
            "(9, 1)\n"
          ]
        }
      ]
    },
    {
      "cell_type": "code",
      "source": [
        "def es_primo(numero):\n",
        "    if numero < 2:\n",
        "        return False\n",
        "    for i in range(2, int(numero ** 0.5) + 1):\n",
        "        if numero % i == 0:\n",
        "            return False\n",
        "    return True\n",
        "\n",
        "def primeros_n_primos(n):\n",
        "    primos = []\n",
        "    numero = 2\n",
        "    while len(primos) < n:\n",
        "        if es_primo(numero):\n",
        "            primos.append(numero)\n",
        "        numero += 1\n",
        "    return primos\n",
        "\n",
        "print(primeros_n_primos(5))"
      ],
      "metadata": {
        "colab": {
          "base_uri": "https://localhost:8080/"
        },
        "id": "03tpTmo2wCeN",
        "outputId": "999f21fc-38ec-4e1c-c6ef-2f9e774e29ab"
      },
      "execution_count": 10,
      "outputs": [
        {
          "output_type": "stream",
          "name": "stdout",
          "text": [
            "[2, 3, 5, 7, 11]\n"
          ]
        }
      ]
    },
    {
      "cell_type": "code",
      "source": [
        "temperaturas_celsius = [0, 20, 30, 40]\n",
        "\n",
        "temperaturas_fahrenheit = list(map(lambda C: (9/5) * C + 32, temperaturas_celsius))\n",
        "\n",
        "print(temperaturas_fahrenheit)"
      ],
      "metadata": {
        "colab": {
          "base_uri": "https://localhost:8080/"
        },
        "id": "mXn4rVIfwNAi",
        "outputId": "21a1ab70-4c80-42c6-8c4c-5f61465c528b"
      },
      "execution_count": 11,
      "outputs": [
        {
          "output_type": "stream",
          "name": "stdout",
          "text": [
            "[32.0, 68.0, 86.0, 104.0]\n"
          ]
        }
      ]
    }
  ]
}